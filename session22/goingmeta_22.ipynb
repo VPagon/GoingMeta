{
  "nbformat": 4,
  "nbformat_minor": 0,
  "metadata": {
    "colab": {
      "provenance": [],
      "authorship_tag": "ABX9TyMgOKIECXu1Bb3Hng96wwhu"
    },
    "kernelspec": {
      "name": "python3",
      "display_name": "Python 3"
    },
    "language_info": {
      "name": "python"
    }
  },
  "cells": [
    {
      "cell_type": "code",
      "execution_count": null,
      "metadata": {
        "id": "SXGNLspFdIqw"
      },
      "outputs": [],
      "source": [
        "!pip install neo4j openai==0.28.1 langchain tiktoken"
      ]
    },
    {
      "cell_type": "markdown",
      "source": [
        "##Vector similarity recommendation"
      ],
      "metadata": {
        "id": "xxNIz-wuWhDu"
      }
    },
    {
      "cell_type": "code",
      "source": [
        "from neo4j import GraphDatabase, basic_auth\n",
        "\n",
        "driver = GraphDatabase.driver(\n",
        "  \"bolt://3.82.104.182:7687\",\n",
        "  auth=basic_auth(\"neo4j\", \"wait-inventions-washers\"))\n",
        "\n",
        "current_title = \"Performance Testing Neo4j Database using Bolt Protocol in Apache JMeter\"\n",
        "current_uri = \"https://dev.to/qainsights/performance-testing-neo4j-database-using-bolt-protocol-in-apache-jmeter-1oa9\"\n",
        "\n",
        "vector_similarity = '''\n",
        "match (a:Article { uri: $uri })\n",
        "call db.index.vector.queryNodes('article-embeddings', 5, a.embedding)\n",
        "yield node AS similarArticle, score\n",
        "where  similarArticle <> a\n",
        "return similarArticle.title as title, similarArticle.body as body, score\n",
        "'''\n",
        "\n",
        "with driver.session(database=\"neo4j\") as session:\n",
        "  results = session.read_transaction(\n",
        "    lambda tx: tx.run(vector_similarity,\n",
        "                      uri=current_uri).data())\n",
        "\n",
        "  context = \"Related documents: \\n\\n\" + \"\\n\\n\".join([\"title: \" + record['title'] + \"\\n\" + \"body: \" + record['body'] + \"\\n\" for record in results ])\n",
        "\n",
        "driver.close()\n",
        "\n",
        "print(context)"
      ],
      "metadata": {
        "colab": {
          "base_uri": "https://localhost:8080/"
        },
        "id": "9H9Erl-4PV7h",
        "outputId": "31ee4577-4449-4fad-e0f1-6caef53b98d7"
      },
      "execution_count": null,
      "outputs": [
        {
          "output_type": "stream",
          "name": "stderr",
          "text": [
            "<ipython-input-61-22911a319dca>:19: DeprecationWarning: read_transaction has been renamed to execute_read\n",
            "  results = session.read_transaction(\n"
          ]
        },
        {
          "output_type": "stream",
          "name": "stdout",
          "text": [
            "Related documents: \n",
            "\n",
            "title: Building a Modern Web Application with Neo4j and NestJS\n",
            "body: This article is the introduction to a series of articles and a Twitch stream on the Neo4j Twitch channel where I build an application on top of Neo4j with NestJS and a yet-to-be-decided Front End. This week I built a Module and Service for interacting with Neo4j.TL;DR: I've pushed the code to Github and created a Neo4j module for NestJS to save you some time.Over the past few weeks I have been spending an hour live streaming something that I have found interesting that week, but from this week I thought I would change things up and start to build out a project on Neo4j.If you're subscribed to this channel then you are likely familiar with Neo4j, but if not then Neo4j is the world's leading Graph Database. Rather than tables or documents, Neo4j stores it's data in Nodes - those nodes are categorised by labels and contain properties as key/value pairs. Those Nodes are connected together by relationships, which are categorised by a type and can also contain properties as key/value pairs.What sets Neo4j apart from other databases is it's ability to query connected datasets. Where traditional databases build up joins between records at read time, Neo4j stores the dataNeo4j is schema-optional - meaning that you can enforce a schema on your database if necessary by adding unique or exists constraints on Nodes and Relationships.I've been experimenting with Typescript for a while now, and the more I use it the more I like it.Typescript is essentially Javascript but with additional static typing. Under the hood, it compiles down to plain Javascript but it improves the developer experience a lot, and allows you to identify problems in real-time as you are writing your code.By far the best framework I have seen that supports typescript is NestJS. NestJS is an opinionated framework for building server-side applications. It also includes modern features you'd expect in a modern framework like Spring Boot or Laravel - mainly Dependency Injection.Nest comes with a CLI with many helpers for starting and developing a project. You can install it by running:Once it's installed, you can use the new or n command to create a new project.After selecting the package manager of your choice, the CLI command will generate a new project and install any dependencies. Once it's done, you can cd into the directory and then run npm run start:dev to fire up the development server.In the generated src/ folder, you'll see:Functionality in Nest is grouped into modules, the official documentation uses Cats as it's example. Modules are a way of grouping related functionality together. In the Cats example, the module provides a CatsService which handles the applications interactions with Cats, and a Cats controller which registers routes which define how the Cats are accessed.Module classes are defined by a @Module annotation, which in turn defines which child modules are imported into module, any controllers that are defined in the module, and any classes that are exported from the mo\n",
            "\n",
            "\n",
            "title: Neo4j: running in Kubernetes\n",
            "body: In the previous post — Neo4j: graph database — run with Docker and Cypher QL examples — we’ve run the Neo4j database with в Docker.The next task is to run it in the Kubernetes cluster.Will use the Neo4j Community Edition, which will be running as a single-node instance as cluster ability for the Neo4j is available in the Enterprise version which is costs about 190.000 USD/year.For the Community Edition, we can apply a Helm chart — neo4j-community.Add its repository:Deploy to a custom namespace, in this example, it’s eks-dev-1-neo4j.With the --set accept its license, and add values for the StorageClass of its PersistentVolume, and add a password for the administrator access:Okay -  it’s deployed, check pods:Check its PersistentVolumeClaim:Check the corresponding PersistentVolume — pay attention, that we’ve created that PVC in the dynamic way, so it has the Reclaim policy set to Delete:Now, run port-forwarding to access the Neo4j server from your workstation:Check connection:The server is ready for work.Originally published at RTFM: Linux, DevOps и системное администрирование.\n",
            "\n",
            "\n",
            "title: NewSQL: An Implementation with Google Spanner\n",
            "body: What is actually NewSQL? You’ve probably already dealt with SQL and NoSQL databases. Each with its own advantages and disadvantages. In this article, I’m going to present the main characteristics of NewSQL databases and a simple implementation using Google Spanner.Firstly, a little recap about the main topics concerning relational e and no-relational databases.SQL is known for being sturdy and organized, dealing with a set of properties called ACID (Atomicity, Consistency, Isolation, Durability), which is the main reason it is so popular, bringing a lot of these sturdiness. But this also means that it only scales vertically, so large companies might need a single powerful machine to support all their requests.NoSQL, on the other hand, is very flexible, without the need for the relational structure of the regular SQL, being able to support non-structured forms of data. This type of database is known for being able to scale horizontally, which means that companies can build database servers close the global clients. But, these non-relational databases don’t support ACID transactions, which means they cannot provide the same consistency as the regular relational.NewSQL comes with the idea of bringing the major advantages in each SQL and NoSQL to the same service. These databases use various techniques to provide these functionalities, as such:Partitioning/Sharding: In order to be able to scale horizontally, NewSQL uses a system of dividing itself in various shards/nodes/partitions. Differently form the fragmentation of the NoSQL databases, the shards run partial parts of the whole databases, although the whole works as a distributed application.Main Memory Storage: This characteristic provides the ability for the database to run on the memory, instead of a hard disc or flash memory. This provides the NewSQL a lot of leverage in terms of speed.Replication and Consistency: NewSQL replicates itself through transparent nodes using the Paxos or Raft consensus algorithm. They are families of complex protocols able to assure consensus in a network of unreliable processes.Concurrency Control: The NewSQL applies Multi-Version Concurrency Control (MVCC), Timestamp methods and T/O to assure the access is granted to the necessary nodes given a certain operation. This together with the consensus algorithm provides the ability of the database to support ACID transactions.This all makes NewSQL databases capable of OLTP, unlike any other databases, considering even SQL supports it partially.One of the best ways to implement a NewSQL database is using Google's DBaaS solution, called Spanner. Which can start a instance ready in minutes.But this all comes with a cost, a large cost. A simple Google Spanner Database with two nodes can cost about 2.00 USD per hour, a lot more than regular services. The main reason this service costs that much is because of the in-memory implementation, which is a lot pricier than a normal hard disc. Also, as the transparent shards work w\n",
            "\n",
            "\n",
            "title: 5 Best courses to learn Apache Kafka for Java Programmers\n",
            "body: Disclosure: This post includes affiliate links; I may receive compensation if you purchase products or services from the different links provided in this article.You might have heard about Apache Kafka, the next generation big data messaging system which is handling billions of messages per day for companies like LinkedIn, Uber, Airbnb, and Twitter.In the past, I have shared some awesome courses on Big Data, Spark, and Hadoop and many of my readers requested that I share similar suggestions for Apache Kafka. If you are interested in Apache Kafka and looking for some awesome courses to learn online then you have come to the right place.In this article, I am going to share some of the best Apache Kafka courses to learn online. If you know about big data then there is a good chance that you have also heard about Apache Kafka, the software which can handle data feeds for any organization. It's a distributed streaming platform developed by the Apache Foundation for building real-time data pipelines.The biggest advantage of Apache Kafka is its speed and horizontal scalability, which means you can increase capacity and throughput by adding more hardware. This makes it ideal for companies dealing with big data.Apache Kafka was designed to address large-scale data movement problems and has enabled hundreds of companies to achieve successes which were not otherwise possible with existing messaging systems.You might not know that Apache Kafka is written in Scala and Java and it aims to provide a unified, high-throughput, low-latency platform for handling real-time data feeds.This is a great course to start learning Apache Kafka from Scratch. In this course, instructor Ryan Plant will teach you everything about the architecture of Apache Kafka which enabled it to scale and perform so reliably.After the initial overview, the course moves to explain individual components of Apache Kafka, like Kafka Streams for processing real-time data feeds and you how to develop Apache Kafka solutions in Java.After this course, you should have all the necessary knowledge to build your own, next-generation big data solutions with Apache Kafka.Here is the link to join the course --- Getting Started with Apache KafkaBy the way, you need a Pluralsight membership to access this course, which cost around $29 per month. But, if you want, you can get access to this course for a fee by signing up for a 10-day free trial.This is another good course to learn Apache Kafka from ground zero. It's an ideal course for both developers and architects who want to learn the fundamentals of Apache Kafka.In this course, instructor Stephane Maarek, author of a series of Apache Kafka courses on Udemy will teach you everything about the Apache Kafka ecosystem from its architecture and core concepts to operations.The course is also hands-on as you will start a personal Kafka Cluster for development purposes and create and configure topics for reading and writing data.You will also learn to integrate \n",
            "\n"
          ]
        }
      ]
    },
    {
      "cell_type": "code",
      "source": [
        "from langchain.chat_models import ChatOpenAI\n",
        "from langchain.prompts import PromptTemplate\n",
        "\n",
        "llm = ChatOpenAI(temperature=0)\n",
        "\n",
        "template = \"\"\"I've read an article titled {current_article_title}.\n",
        "Tell me what should I read next and a brief description of why based only on the provided context.\n",
        "\n",
        "{context}\n",
        "\"\"\"\n",
        "prompt = PromptTemplate.from_template(template)\n",
        "\n",
        "theprompt = prompt.format_prompt(current_article_title=current_title,context=context)\n",
        "\n",
        "#print(theprompt)\n",
        "\n",
        "llm(theprompt.to_messages())"
      ],
      "metadata": {
        "colab": {
          "base_uri": "https://localhost:8080/"
        },
        "id": "ZviviqZRSm1M",
        "outputId": "5cbee02b-8be8-489f-fa6b-5e1abf259363"
      },
      "execution_count": null,
      "outputs": [
        {
          "output_type": "stream",
          "name": "stdout",
          "text": [
            "content='Based on the provided context, the next document you should read is \"Building a Modern Web Application with Neo4j and NestJS.\" This article is related to the previous article about performance testing Neo4j database using Bolt Protocol in Apache JMeter. It introduces a series of articles and a Twitch stream where the author builds an application on top of Neo4j with NestJS. It discusses the benefits of using Neo4j as a graph database and explains how to use NestJS, a framework for building server-side applications, with Neo4j. This article will provide further insights into using Neo4j in a web application context.'\n"
          ]
        }
      ]
    },
    {
      "cell_type": "markdown",
      "source": [
        "##Graph similarity recommendation"
      ],
      "metadata": {
        "id": "TwfqAv55WmJE"
      }
    },
    {
      "cell_type": "code",
      "source": [
        "from neo4j import GraphDatabase, basic_auth\n",
        "\n",
        "driver = GraphDatabase.driver(\n",
        "  \"bolt://3.82.104.182:7687\",\n",
        "  auth=basic_auth(\"neo4j\", \"wait-inventions-washers\"))\n",
        "\n",
        "current_title = \"Performance Testing Neo4j Database using Bolt Protocol in Apache JMeter\"\n",
        "current_uri = \"https://dev.to/qainsights/performance-testing-neo4j-database-using-bolt-protocol-in-apache-jmeter-1oa9\"\n",
        "\n",
        "graph_similarity = '''\n",
        "match (a:Article { uri: $uri})-[rt1:refers_to]->(c1)\n",
        "call n10s.sim.pathsim.search(c1,0.2,{ simulateRoot: false }) yield node as relatedTopic\n",
        "with a,c1,collect(relatedTopic) + [c1] as topics\n",
        "unwind topics as c2\n",
        "match (similarArticle:Article )-[rt2:refers_to]->(c2) //where similarArticle <> a\n",
        "with a.title as original, similarArticle.title as similar,\n",
        "[x in collect(n10s.sim.pathsim.value(c1,c2, { simulateRoot: false})) where x > 0 ] as sims ,\n",
        "collect(n10s.sim.pathsim.path(c1,c2, { simulateRoot: false})) as paths,\n",
        "collect([\"the original article mentions explicitly \" + nodes(n10s.sim.pathsim.path(c1,c2, { simulateRoot: false}))[0].prefLabel ]  +\n",
        " [\" the recommended article mentions explicitly \" + nodes(n10s.sim.pathsim.path(c1,c2, { simulateRoot: false}))[-1].prefLabel]  + [r in relationships(n10s.sim.pathsim.path(c1,c2, { simulateRoot: false})) | startNode(r).prefLabel + \" is a type of \" + endNode(r).prefLabel]) as paths_as_text\n",
        "where sims <> []\n",
        "return similar as title, apoc.coll.avg(sims) as sim, sims, reduce(result=\"\", x in paths_as_text | result + reduce(inner=\"\", y in x | inner + \"\\n\"+y))  as explanation\n",
        "order by sim desc limit 4\n",
        "'''\n",
        "\n",
        "with driver.session(database=\"neo4j\") as session:\n",
        "  results = session.read_transaction(\n",
        "    lambda tx: tx.run(graph_similarity,\n",
        "                      uri=current_uri).data())\n",
        "\n",
        "  context = \"Related documents: \\n\\n\" + \"\\n\\n\".join([\"title: \" + record['title'] + \"\\n\" + \"explanation: \" + record['explanation'] + \"\\n\" for record in results ])\n",
        "\n",
        "driver.close()\n",
        "\n",
        "print(context)"
      ],
      "metadata": {
        "colab": {
          "base_uri": "https://localhost:8080/"
        },
        "id": "1gy97UW8WfBX",
        "outputId": "5edc26d6-d993-4f43-f7fb-9ef4b2ebe0cf"
      },
      "execution_count": null,
      "outputs": [
        {
          "output_type": "stream",
          "name": "stderr",
          "text": [
            "<ipython-input-69-4d3c7b685ab3>:27: DeprecationWarning: read_transaction has been renamed to execute_read\n",
            "  results = session.read_transaction(\n"
          ]
        },
        {
          "output_type": "stream",
          "name": "stdout",
          "text": [
            "Related documents: \n",
            "\n",
            "title: Building a Modern Web Application with Neo4j and NestJS\n",
            "explanation: \n",
            "the original article mentions explicitly Neo4j\n",
            " the recommended article mentions explicitly Neo4j\n",
            "\n",
            "\n",
            "title: Performance Testing Neo4j Database using Bolt Protocol in Apache JMeter\n",
            "explanation: \n",
            "the original article mentions explicitly Neo4j\n",
            " the recommended article mentions explicitly Neo4j\n",
            "\n",
            "\n",
            "title: Neo4j: running in Kubernetes\n",
            "explanation: \n",
            "the original article mentions explicitly Neo4j\n",
            " the recommended article mentions explicitly Neo4j\n",
            "\n",
            "\n",
            "title: 9 Best Python Frameworks for Building Small to Enterprise Applications\n",
            "explanation: \n",
            "the original article mentions explicitly Neo4j\n",
            " the recommended article mentions explicitly Zope Object Database\n",
            "Neo4j is a type of graph database\n",
            "graph database is a type of database management system\n",
            "Zope Object Database is a type of database management system\n",
            "\n"
          ]
        }
      ]
    },
    {
      "cell_type": "code",
      "source": [
        "from langchain.chat_models import ChatOpenAI\n",
        "from langchain.prompts import PromptTemplate\n",
        "\n",
        "llm = ChatOpenAI(temperature=0)\n",
        "\n",
        "template = \"\"\"I've read an article titled {current_article_title}.\n",
        "Tell me what should I read next and a brief description of why based only on the provided context.\n",
        "\n",
        "{context}\n",
        "\"\"\"\n",
        "prompt = PromptTemplate.from_template(template)\n",
        "\n",
        "theprompt = prompt.format_prompt(current_article_title=current_title,context=context)\n",
        "\n",
        "#print(theprompt)\n",
        "\n",
        "llm(theprompt.to_messages())"
      ],
      "metadata": {
        "colab": {
          "base_uri": "https://localhost:8080/"
        },
        "id": "D4iMT9euZd5S",
        "outputId": "130d7b76-079e-45ae-bbe9-70bd3ebb0714"
      },
      "execution_count": null,
      "outputs": [
        {
          "output_type": "execute_result",
          "data": {
            "text/plain": [
              "AIMessage(content='Based on the provided context, the recommended document to read next would be \"Building a Modern Web Application with Neo4j and NestJS.\" This is because the original article explicitly mentions Neo4j, and the recommended article also explicitly mentions Neo4j. This suggests that the recommended article would provide further information and insights related to Neo4j, which would be relevant and beneficial for the reader.')"
            ]
          },
          "metadata": {},
          "execution_count": 70
        }
      ]
    }
  ]
}