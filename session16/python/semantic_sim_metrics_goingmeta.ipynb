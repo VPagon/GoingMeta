{
  "nbformat": 4,
  "nbformat_minor": 0,
  "metadata": {
    "colab": {
      "provenance": [],
      "authorship_tag": "ABX9TyPGfqX1DJm66udhWxgIWSh3"
    },
    "kernelspec": {
      "name": "python3",
      "display_name": "Python 3"
    },
    "language_info": {
      "name": "python"
    }
  },
  "cells": [
    {
      "cell_type": "code",
      "execution_count": null,
      "metadata": {
        "id": "mkyObSWXUUEp"
      },
      "outputs": [],
      "source": [
        "import nltk \n",
        "from nltk.corpus import wordnet as wn"
      ]
    },
    {
      "cell_type": "code",
      "source": [
        "nltk.download('wordnet')"
      ],
      "metadata": {
        "id": "Enuv4mOQUwP2"
      },
      "execution_count": null,
      "outputs": []
    },
    {
      "cell_type": "code",
      "source": [
        "wn.synsets('dog', pos=wn.NOUN)"
      ],
      "metadata": {
        "id": "GV1YQdDO2dPW"
      },
      "execution_count": null,
      "outputs": []
    },
    {
      "cell_type": "code",
      "source": [
        "dog = wn.synset('dog.n.01') \n",
        "print(dog.definition())\n",
        "print(dog.lemmas())\n",
        "print(dog.examples())"
      ],
      "metadata": {
        "id": "aQAplyDOU_eu"
      },
      "execution_count": null,
      "outputs": []
    },
    {
      "cell_type": "code",
      "source": [
        "print('hyper', dog.hypernyms())\n",
        "print('hypo', dog.hyponyms())"
      ],
      "metadata": {
        "id": "9CXPzShwVS7m"
      },
      "execution_count": null,
      "outputs": []
    },
    {
      "cell_type": "code",
      "source": [
        "wn.synsets('cat', pos=wn.NOUN)"
      ],
      "metadata": {
        "id": "4XmO-JJP2sw2"
      },
      "execution_count": null,
      "outputs": []
    },
    {
      "cell_type": "code",
      "source": [
        "cat = wn.synset('cat.n.01')\n",
        "print(cat.definition())\n",
        "print(cat.lemmas())\n",
        "print(cat.examples())"
      ],
      "metadata": {
        "id": "ZjvM090dVsHc"
      },
      "execution_count": null,
      "outputs": []
    },
    {
      "cell_type": "code",
      "source": [
        "dog.wup_similarity(cat)"
      ],
      "metadata": {
        "id": "wA4AMit633aG"
      },
      "execution_count": null,
      "outputs": []
    },
    {
      "cell_type": "code",
      "source": [
        "dog.lowest_common_hypernyms(cat)"
      ],
      "metadata": {
        "id": "ad6sjz-g0HJ3"
      },
      "execution_count": null,
      "outputs": []
    }
  ]
}