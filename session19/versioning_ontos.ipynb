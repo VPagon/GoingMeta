{
  "nbformat": 4,
  "nbformat_minor": 0,
  "metadata": {
    "colab": {
      "provenance": [],
      "authorship_tag": "ABX9TyMsAgHkUi+xFFsXCglCCCQc"
    },
    "kernelspec": {
      "name": "python3",
      "display_name": "Python 3"
    },
    "language_info": {
      "name": "python"
    }
  },
  "cells": [
    {
      "cell_type": "code",
      "source": [
        "pip install neo4j rdflib"
      ],
      "metadata": {
        "id": "zxYpEoGvAOhc"
      },
      "execution_count": null,
      "outputs": []
    },
    {
      "cell_type": "code",
      "execution_count": null,
      "metadata": {
        "id": "x9fEHrvJw2ni"
      },
      "outputs": [],
      "source": [
        "from zipfile import ZipFile\n",
        "import requests\n",
        "from io import BytesIO\n",
        "from neo4j import GraphDatabase, basic_auth\n",
        "import json\n",
        "from rdflib import Graph"
      ]
    },
    {
      "cell_type": "markdown",
      "source": [
        "###Functions to interact with Neo4j"
      ],
      "metadata": {
        "id": "McIHRtHebguS"
      }
    },
    {
      "cell_type": "code",
      "source": [
        "driver = GraphDatabase.driver(\n",
        "  \"bolt://<your_neo4j_ip>:7687\",\n",
        "  auth=basic_auth(\"your_usr\", \"your_pwd\"))\n",
        "\n",
        "def store_onto(driver, dbname, onto_as_string):\n",
        "  onto_import_query = '''\n",
        "  call n10s.rdf.import.inline($payload,'Turtle')\n",
        "  '''\n",
        "\n",
        "  with driver.session(database=dbname) as session:\n",
        "    results = session.execute_write(\n",
        "      lambda tx: tx.run(onto_import_query, payload=onto_as_string).data())\n",
        "    for record in results:\n",
        "      print(record)\n",
        "\n",
        "def store_onto_delta(driver, dbname, deleted, added):\n",
        "  onto_add_query = '''\n",
        "  call n10s.rdf.import.inline($payload,'Turtle')\n",
        "  '''\n",
        "  onto_delete_query = '''\n",
        "  call n10s.rdf.delete.inline($payload,'Turtle')\n",
        "  '''\n",
        "  with driver.session(database=dbname) as session:\n",
        "    results = session.execute_write(\n",
        "      lambda tx: tx.run(onto_add_query, payload=added).data())\n",
        "    for record in results:\n",
        "      print(record)\n",
        "    results = session.execute_write(\n",
        "      lambda tx: tx.run(onto_delete_query, payload=deleted).data())\n",
        "    for record in results:\n",
        "      print(record)"
      ],
      "metadata": {
        "id": "l_ysLOTsAWZN"
      },
      "execution_count": null,
      "outputs": []
    },
    {
      "cell_type": "markdown",
      "source": [
        "###Get the current version of the ontology from the dev tool and store it in Neo4j"
      ],
      "metadata": {
        "id": "1BTx3hRpbnOs"
      }
    },
    {
      "cell_type": "code",
      "source": [
        "web_protege_url = \"https://webprotege.stanford.edu/download?project={project_id}&format=ttl\".format(project_id = input(\"WebProtege project ID: \"))\n",
        "web_protege_cookies = {'JSESSIONID': input(\"Session ID from cookies: \")}"
      ],
      "metadata": {
        "id": "AN2s9nc-zGrY"
      },
      "execution_count": null,
      "outputs": []
    },
    {
      "cell_type": "code",
      "source": [
        "with ZipFile(BytesIO(requests.get(web_protege_url, cookies = web_protege_cookies).content)) as zp:\n",
        "  for filename in zp.namelist():\n",
        "    print(filename)\n",
        "    store_onto(driver, \"db_name\", zp.read(filename).decode(\"utf-8\"))"
      ],
      "metadata": {
        "id": "jPPHCY190Jx7"
      },
      "execution_count": null,
      "outputs": []
    },
    {
      "cell_type": "markdown",
      "source": [
        "###Get the current ontology in Neo4j and load it into an RdfLib Graph object"
      ],
      "metadata": {
        "id": "NxLXoFurbRGa"
      }
    },
    {
      "cell_type": "code",
      "source": [
        "neo4j_rdf_endpoint = 'http://<your_neo4j_ip>:7474/rdf/<your_dbname>/cypher'\n",
        "query_get_ontology = 'match (r:Resource) return r union match (:Resource)-[r]-() return r'\n",
        "\n",
        "payload = { 'cypher' : query_get_ontology , 'format' : 'Turtle' }\n",
        "\n",
        "response = requests.post(neo4j_rdf_endpoint, auth=('your_usr', 'your_pwd'), data = json.dumps(payload))\n",
        "response.raise_for_status()  # raise an error on unsuccessful status codes\n",
        "\n",
        "current = Graph()\n",
        "current.parse(data=response.text, format='turtle')\n"
      ],
      "metadata": {
        "id": "d9tuljRifOXt"
      },
      "execution_count": null,
      "outputs": []
    },
    {
      "cell_type": "code",
      "source": [
        "print(current.serialize())"
      ],
      "metadata": {
        "id": "6lCQi7e1vyut"
      },
      "execution_count": null,
      "outputs": []
    },
    {
      "cell_type": "markdown",
      "source": [
        "### Get the current ontology in WebProtege and load it into an RdfLib Graph object"
      ],
      "metadata": {
        "id": "J7yY4K3JlhC3"
      }
    },
    {
      "cell_type": "code",
      "source": [
        "new = Graph()\n",
        "with ZipFile(BytesIO(requests.get(web_protege_url, cookies = web_protege_cookies).content)) as zp:\n",
        "  for filename in zp.namelist():\n",
        "    print(filename)\n",
        "    new.parse(data=zp.read(filename).decode(\"utf-8\"), format='turtle')"
      ],
      "metadata": {
        "id": "j8tY5IRxf3xO"
      },
      "execution_count": null,
      "outputs": []
    },
    {
      "cell_type": "markdown",
      "source": [
        "### Do delta analysis and persist as needed"
      ],
      "metadata": {
        "id": "KYgFjATHlrYE"
      }
    },
    {
      "cell_type": "code",
      "source": [
        "added = new - current\n",
        "deleted = current - new\n",
        "print(\"ADDED TRIPLES\")\n",
        "print(added.serialize(format=\"turtle\"))\n",
        "print(\"DELETED TRIPLES\")\n",
        "print(deleted.serialize(format=\"turtle\"))"
      ],
      "metadata": {
        "id": "s2OvyaUTqaXk"
      },
      "execution_count": null,
      "outputs": []
    },
    {
      "cell_type": "code",
      "source": [
        "store_onto_delta(driver, \"db_name\", deleted.serialize(format=\"turtle\"), added.serialize(format=\"turtle\"))"
      ],
      "metadata": {
        "id": "EvaqedzXZYp-"
      },
      "execution_count": null,
      "outputs": []
    }
  ]
}