{
 "cells": [
  {
   "cell_type": "code",
   "execution_count": 1,
   "id": "ec49bbad-7b80-4be5-9eea-ed1e7c368b61",
   "metadata": {
    "tags": []
   },
   "outputs": [
    {
     "name": "stdout",
     "output_type": "stream",
     "text": [
      "Looking in indexes: https://pypi.org/simple, https://pip.repos.neuron.amazonaws.com\n",
      "Requirement already satisfied: neo4j==5.11 in /home/ec2-user/anaconda3/envs/JupyterSystemEnv/lib/python3.10/site-packages (5.11.0)\n",
      "Requirement already satisfied: pytz in /home/ec2-user/anaconda3/envs/JupyterSystemEnv/lib/python3.10/site-packages (from neo4j==5.11) (2023.3)\n",
      "Note: you may need to restart the kernel to use updated packages.\n"
     ]
    }
   ],
   "source": [
    "pip install neo4j==5.11"
   ]
  },
  {
   "cell_type": "code",
   "execution_count": 2,
   "id": "e23deda7-8789-40bb-a251-87bf373ab7f1",
   "metadata": {
    "tags": []
   },
   "outputs": [],
   "source": [
    "import requests\n",
    "from neo4j import GraphDatabase, basic_auth\n",
    "\n",
    "neptune_endpoint = \"https://<your_neptune_endpoint>.neptune.amazonaws.com:8182/sparql\"\n",
    "sparql = \" construct { ?s ?p ?o } WHERE { ?s ?p ?o} \"\n",
    "neo4j_endpoint = \"bolt://<your_neo4j_endpoint>:7687\"\n"
   ]
  },
  {
   "cell_type": "code",
   "execution_count": 3,
   "id": "0cb5d975-df44-4aa6-8ed3-46ba685262a0",
   "metadata": {
    "tags": []
   },
   "outputs": [],
   "source": [
    "# instantiate neo4j driver\n",
    "neo_db = GraphDatabase.driver(\n",
    "  neo4j_endpoint,\n",
    "  auth=basic_auth(\"your_user\", \"your_password\"),database=\"your_db_name\")"
   ]
  },
  {
   "cell_type": "code",
   "execution_count": 4,
   "id": "0578cc3b-6fa3-4a2c-b4c5-1734d006525d",
   "metadata": {
    "tags": []
   },
   "outputs": [
    {
     "data": {
      "text/plain": [
       "EagerResult(records=[<Record param='handleVocabUris' value='SHORTEN'>, <Record param='handleMultival' value='OVERWRITE'>, <Record param='handleRDFTypes' value='LABELS'>, <Record param='keepLangTag' value=False>, <Record param='keepCustomDataTypes' value=False>, <Record param='applyNeo4jNaming' value=False>, <Record param='baseSchemaNamespace' value='neo4j://graph.schema#'>, <Record param='baseSchemaPrefix' value='n4sch'>, <Record param='classLabel' value='Class'>, <Record param='subClassOfRel' value='SCO'>, <Record param='dataTypePropertyLabel' value='Property'>, <Record param='objectPropertyLabel' value='Relationship'>, <Record param='subPropertyOfRel' value='SPO'>, <Record param='domainRel' value='DOMAIN'>, <Record param='rangeRel' value='RANGE'>], summary=<neo4j._work.summary.ResultSummary object at 0x7f124b0053c0>, keys=['param', 'value'])"
      ]
     },
     "execution_count": 4,
     "metadata": {},
     "output_type": "execute_result"
    }
   ],
   "source": [
    "# initialise DB to import RDF\n",
    "neo_db.execute_query('CREATE CONSTRAINT n10s_unique_uri IF NOT EXISTS FOR (r:Resource) REQUIRE r.uri IS UNIQUE')\n",
    "neo_db.execute_query('call n10s.graphconfig.init()')"
   ]
  },
  {
   "cell_type": "code",
   "execution_count": 5,
   "id": "b62d142e-66cf-43d5-a485-8e2da4c4d7ac",
   "metadata": {},
   "outputs": [],
   "source": [
    "# run extraction query from neptune and ingestion procedure on neo4j\n",
    "export_result = requests.get(neptune_endpoint, params = {\"query\": sparql , \"Accept\" : \"text/turtle\"})\n",
    "if export_result.status_code == 200:\n",
    "  neo_db.execute_query('call n10s.rdf.import.inline($payload,\"Turtle\")', {\"payload\": export_result.text })"
   ]
  }
 ],
 "metadata": {
  "kernelspec": {
   "display_name": "Python 3",
   "language": "python",
   "name": "python3"
  },
  "language_info": {
   "codemirror_mode": {
    "name": "ipython",
    "version": 3
   },
   "file_extension": ".py",
   "mimetype": "text/x-python",
   "name": "python",
   "nbconvert_exporter": "python",
   "pygments_lexer": "ipython3",
   "version": "3.10.8"
  }
 },
 "nbformat": 4,
 "nbformat_minor": 5
}
