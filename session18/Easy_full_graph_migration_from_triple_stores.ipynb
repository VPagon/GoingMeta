{
  "nbformat": 4,
  "nbformat_minor": 0,
  "metadata": {
    "colab": {
      "provenance": [],
      "authorship_tag": "ABX9TyN/cm40+0fn3ay1bE4r6Nj1",
      "include_colab_link": true
    },
    "kernelspec": {
      "name": "python3",
      "display_name": "Python 3"
    },
    "language_info": {
      "name": "python"
    }
  },
  "cells": [
    {
      "cell_type": "markdown",
      "metadata": {
        "id": "view-in-github",
        "colab_type": "text"
      },
      "source": [
        "<a href=\"https://colab.research.google.com/github/jbarrasa/goingmeta/blob/main/session18/Easy_full_graph_migration_from_triple_stores.ipynb\" target=\"_parent\"><img src=\"https://colab.research.google.com/assets/colab-badge.svg\" alt=\"Open In Colab\"/></a>"
      ]
    },
    {
      "cell_type": "markdown",
      "source": [
        "# Migration from Stardog"
      ],
      "metadata": {
        "id": "VE-BKdt6CQnm"
      }
    },
    {
      "cell_type": "code",
      "execution_count": null,
      "metadata": {
        "id": "svdMg8DBjrQK"
      },
      "outputs": [],
      "source": [
        "pip install pystardog neo4j"
      ]
    },
    {
      "cell_type": "markdown",
      "source": [
        "STEP1: Connect to the Stardog instance using the pystardog driver"
      ],
      "metadata": {
        "id": "QGvMBWdqBcHm"
      }
    },
    {
      "cell_type": "code",
      "source": [
        "import stardog\n",
        "from neo4j import GraphDatabase, basic_auth"
      ],
      "metadata": {
        "id": "tK-p6xKqnYNt"
      },
      "execution_count": 5,
      "outputs": []
    },
    {
      "cell_type": "code",
      "source": [
        "stardog_connection_details = {\n",
        "  'endpoint': 'https://your-instance-id.stardog.cloud:5820',\n",
        "  'username': 'your_user',\n",
        "  'password': 'your_pwd'\n",
        "}"
      ],
      "metadata": {
        "id": "YY53Xcrtk8W3"
      },
      "execution_count": 6,
      "outputs": []
    },
    {
      "cell_type": "code",
      "source": [
        "conn = stardog.Connection('test-database', **stardog_connection_details)"
      ],
      "metadata": {
        "id": "3_ScDmP0lHQW"
      },
      "execution_count": 7,
      "outputs": []
    },
    {
      "cell_type": "markdown",
      "source": [
        "OPTIONAL: Populate the DB if empty. Not needed if your DB is already pre-loaded"
      ],
      "metadata": {
        "id": "JjkoQJB8wNas"
      }
    },
    {
      "cell_type": "code",
      "source": [
        "conn.begin()\n",
        "conn.add(stardog.content.URL('https://github.com/stardog-union/stardog-tutorials/raw/master/music/music.ttl.gz'))\n",
        "conn.commit()"
      ],
      "metadata": {
        "id": "pu3nlogEqFL1"
      },
      "execution_count": null,
      "outputs": []
    },
    {
      "cell_type": "markdown",
      "source": [
        "STEP2: Connect to Neo4j and initialise the DB"
      ],
      "metadata": {
        "id": "1QEMnHLp-jpA"
      }
    },
    {
      "cell_type": "code",
      "source": [
        "neo_db = GraphDatabase.driver(\n",
        "  \"bolt://your.neo4j.instance:7687\",\n",
        "  auth=basic_auth(\"your-user\", \"your-pwd\"), database=\"neo4j\")\n",
        "\n",
        "neo_db.execute_query('CREATE CONSTRAINT n10s_unique_uri IF NOT EXISTS FOR (r:Resource) REQUIRE r.uri IS UNIQUE')\n",
        "neo_db.execute_query('call n10s.graphconfig.init()')"
      ],
      "metadata": {
        "id": "IQAJ7PEhvU1J"
      },
      "execution_count": 9,
      "outputs": []
    },
    {
      "cell_type": "markdown",
      "source": [
        "STEP3: Run the migration!\n",
        "\n",
        "We will use\n",
        "* the method `conn.export()` to export the whole graph from Stardog\n",
        "* the `n10s.rdf.import.inline` procedure to import the RDF into Neo4j\n"
      ],
      "metadata": {
        "id": "swM_iLpeB0xe"
      }
    },
    {
      "cell_type": "code",
      "source": [
        "neo_db.execute_query('call n10s.rdf.import.inline($payload,\"Turtle\")', {\"payload\": conn.export().decode('utf-8')})\n",
        "\n",
        "# and close the connection\n",
        "neo_db.close()"
      ],
      "metadata": {
        "id": "WvOwWqvjCG_T"
      },
      "execution_count": null,
      "outputs": []
    },
    {
      "cell_type": "markdown",
      "source": [
        "# Migration from Ontotext"
      ],
      "metadata": {
        "id": "N2Xd1xh-lJqW"
      }
    },
    {
      "cell_type": "markdown",
      "source": [
        "STEP1: Run SPARQL construct query returning all triples from the DB"
      ],
      "metadata": {
        "id": "gUq27uuqC5rD"
      }
    },
    {
      "cell_type": "code",
      "source": [
        "import requests\n",
        "import urllib.parse\n",
        "\n",
        "endpoint = \"https://i40kg.ontotext.com/graphdb/repositories/i40kg\"\n",
        "sparql = \" construct { ?s ?p ?o } WHERE { ?s ?p ?o} \"\n",
        "export_result = requests.get(endpoint, params = {\"query\": sparql , \"Accept\" : \"text/turtle\"})\n"
      ],
      "metadata": {
        "id": "yNAsneUJEgVX"
      },
      "execution_count": null,
      "outputs": []
    },
    {
      "cell_type": "markdown",
      "source": [
        "STEP2: Connect to Neo4j and initialise the DB (identical to previous example)"
      ],
      "metadata": {
        "id": "NSGarrSpDRkS"
      }
    },
    {
      "cell_type": "code",
      "source": [
        "neo_db = GraphDatabase.driver(\n",
        "  \"bolt://your.neo4j.instance:7687\",\n",
        "  auth=basic_auth(\"your-user\", \"your-pwd\"),database=\"i40kg\")\n",
        "\n",
        "neo_db.execute_query('CREATE CONSTRAINT n10s_unique_uri IF NOT EXISTS FOR (r:Resource) REQUIRE r.uri IS UNIQUE')\n",
        "neo_db.execute_query('call n10s.graphconfig.init()')"
      ],
      "metadata": {
        "id": "Jjf3YnwtFpV5"
      },
      "execution_count": null,
      "outputs": []
    },
    {
      "cell_type": "markdown",
      "source": [
        "STEP3: Run the migration!\n",
        "\n",
        "Same as previous example but using the result of the previous request"
      ],
      "metadata": {
        "id": "Y-PbxhddDfXJ"
      }
    },
    {
      "cell_type": "code",
      "source": [
        "if export_result.status_code == 200:\n",
        "  neo_db.execute_query('call n10s.rdf.import.inline($payload,\"Turtle\")', {\"payload\": export_result.text })\n",
        "\n",
        "# and close the connection\n",
        "neo_db.close()"
      ],
      "metadata": {
        "id": "E_oMoj3dDj9o"
      },
      "execution_count": null,
      "outputs": []
    }
  ]
}